{
 "cells": [
  {
   "cell_type": "code",
   "execution_count": 1,
   "id": "766b28a4-3f9b-4677-8849-e0d6a33c6439",
   "metadata": {},
   "outputs": [
    {
     "name": "stdout",
     "output_type": "stream",
     "text": [
      "Defaulting to user installation because normal site-packages is not writeable\n",
      "Requirement already satisfied: requests in /Applications/JupyterLab.app/Contents/Resources/jlab_server/lib/python3.8/site-packages (2.26.0)\n",
      "Requirement already satisfied: certifi>=2017.4.17 in /Applications/JupyterLab.app/Contents/Resources/jlab_server/lib/python3.8/site-packages (from requests) (2021.10.8)\n",
      "Requirement already satisfied: idna<4,>=2.5 in /Applications/JupyterLab.app/Contents/Resources/jlab_server/lib/python3.8/site-packages (from requests) (3.1)\n",
      "Requirement already satisfied: charset-normalizer~=2.0.0 in /Applications/JupyterLab.app/Contents/Resources/jlab_server/lib/python3.8/site-packages (from requests) (2.0.0)\n",
      "Requirement already satisfied: urllib3<1.27,>=1.21.1 in /Applications/JupyterLab.app/Contents/Resources/jlab_server/lib/python3.8/site-packages (from requests) (1.26.7)\n"
     ]
    }
   ],
   "source": [
    "!pip3 install requests"
   ]
  },
  {
   "cell_type": "code",
   "execution_count": 1,
   "id": "96b8f95c-0100-405a-9708-929c270ba2e4",
   "metadata": {},
   "outputs": [
    {
     "name": "stdout",
     "output_type": "stream",
     "text": [
      "Helllo\n"
     ]
    }
   ],
   "source": [
    "print('Helllo')"
   ]
  },
  {
   "cell_type": "code",
   "execution_count": null,
   "id": "a5a60059-e674-4a62-9620-9c9a44cd9ce0",
   "metadata": {},
   "outputs": [],
   "source": []
  }
 ],
 "metadata": {
  "kernelspec": {
   "display_name": "Python 3 (ipykernel)",
   "language": "python",
   "name": "python3"
  },
  "language_info": {
   "codemirror_mode": {
    "name": "ipython",
    "version": 3
   },
   "file_extension": ".py",
   "mimetype": "text/x-python",
   "name": "python",
   "nbconvert_exporter": "python",
   "pygments_lexer": "ipython3",
   "version": "3.8.12"
  }
 },
 "nbformat": 4,
 "nbformat_minor": 5
}
